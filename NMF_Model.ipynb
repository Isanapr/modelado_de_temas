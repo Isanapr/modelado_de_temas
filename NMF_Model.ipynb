{
 "cells": [
  {
   "cell_type": "markdown",
   "id": "b011b2eb",
   "metadata": {},
   "source": [
    "# Imports"
   ]
  },
  {
   "cell_type": "code",
   "execution_count": 19,
   "id": "2f4d45e0",
   "metadata": {},
   "outputs": [],
   "source": [
    "import re\n",
    "import string\n",
    "import numpy as np\n",
    "import pandas as pd\n",
    "from pprint import pprint"
   ]
  },
  {
   "cell_type": "code",
   "execution_count": 20,
   "id": "a01ab3f1",
   "metadata": {},
   "outputs": [],
   "source": [
    "from sklearn.feature_extraction.text import TfidfVectorizer\n",
    "from sklearn.decomposition import NMF\n",
    "from sklearn.feature_extraction import text"
   ]
  },
  {
   "cell_type": "code",
   "execution_count": 34,
   "id": "97fb671f",
   "metadata": {},
   "outputs": [
    {
     "name": "stderr",
     "output_type": "stream",
     "text": [
      "[nltk_data] Downloading package punkt to\n",
      "[nltk_data]     /Users/isanavarro/nltk_data...\n",
      "[nltk_data]   Package punkt is already up-to-date!\n",
      "[nltk_data] Downloading package averaged_perceptron_tagger to\n",
      "[nltk_data]     /Users/isanavarro/nltk_data...\n",
      "[nltk_data]   Package averaged_perceptron_tagger is already up-to-\n",
      "[nltk_data]       date!\n",
      "[nltk_data] Downloading package wordnet to\n",
      "[nltk_data]     /Users/isanavarro/nltk_data...\n",
      "[nltk_data]   Unzipping corpora/wordnet.zip.\n"
     ]
    }
   ],
   "source": [
    "import spacy\n",
    "import nltk\n",
    "nltk.download('punkt')\n",
    "nltk.download('averaged_perceptron_tagger')\n",
    "nltk.download('wordnet')\n",
    "from nltk.corpus import stopwords\n",
    "from nltk import word_tokenize, pos_tag\n",
    "from nltk.stem import WordNetLemmatizer"
   ]
  },
  {
   "cell_type": "markdown",
   "id": "c0efb310",
   "metadata": {},
   "source": [
    "# Creación de Stop Words"
   ]
  },
  {
   "cell_type": "code",
   "execution_count": 5,
   "id": "6ac9b191",
   "metadata": {},
   "outputs": [
    {
     "name": "stderr",
     "output_type": "stream",
     "text": [
      "[nltk_data] Downloading package stopwords to\n",
      "[nltk_data]     /Users/isanavarro/nltk_data...\n",
      "[nltk_data]   Package stopwords is already up-to-date!\n"
     ]
    }
   ],
   "source": [
    "nltk.download(\"stopwords\")\n",
    "stop_words = stopwords.words('english')\n",
    "stop_words.extend(['from', 'subject', 're', 'edu', 'use','a','about', 'above', 'across'])\n",
    "st1= ['after', 'afterwards','again','against', 'all', 'almost','alone','along','already','also','although','always','am','among','amongst','amoungst','amount','an','and','another','any',\n",
    "      'anyhow','anyone','anything','anyway','anywhere','are','around','as','at','back','be','became','because','become','becomes','becoming','been','before','beforehand','behind','being',\n",
    "      'below','beside','besides','between','beyond','bill','both','bottom','but','by','call','can','cannot','cant','co','con','could','couldnt','cry','de','describe','detail','do','done',\n",
    "      'down','due','during','each','eg','eight','either','eleven','else','elsewhere','empty','enough','etc','even','ever','every','everyone','everything','everywhere','except','few','fifteen',\n",
    "      'fifty','fill','find','fire','first','five','for','former','formerly','forty','found','four','from','front','full','further','get','give','go','had','has','hasnt','have','he','hence',\n",
    "      'her','here','hereafter','hereby','herein','hereupon','hers','herself','him','himself','his','how','however','hundred','i','ie','if','in','inc','indeed','interest','into','is','it',\n",
    "      'its','itself','keep','last','latter','latterly','least','less','ltd','made','many','may','me','meanwhile','might','mill','mine','more','moreover','most','mostly','move','much','must',\n",
    "      'my','myself','name','namely','neither','never','nevertheless','next','nine','no','nobody','none','noone','nor','not','nothing','now','nowhere','of','off','often','on','once','one',\n",
    "      'only','onto','or','other','others','otherwise','our','ours','ourselves','out','over','own','part','per','perhaps','please','put','rather','re','same','see','seem','seemed','seeming',\n",
    "      'seems','serious','several','she','should','show','side','since','sincere','six','sixty','so','some','somehow','someone','something','sometime','sometimes','somewhere','still','such',\n",
    "      'system','take','ten','than','that','the','their','them','themselves','then','thence','there','thereafter','thereby','therefore','therein','thereupon','these','they','thick','thin',\n",
    "      'third','this','those','though','three','through','throughout','thru','thus','to','together','too','top','toward','towards','twelve','twenty','two','un','under','until','up','upon',\n",
    "      'us','very','via','was','we','well','were','what','whatever','when','whence','whenever','where','whereafter','whereas','whereby','wherein','whereupon','wherever','whether','which',\n",
    "      'while','whither','who','whoever','whole','whom','whose','why','will','with','within','without','would','yet','you','your','yours','yourself','yourselves']\n",
    "stop_words.extend(st1)"
   ]
  },
  {
   "cell_type": "markdown",
   "id": "56c6162f",
   "metadata": {},
   "source": [
    "# Lectura de Datos"
   ]
  },
  {
   "cell_type": "code",
   "execution_count": 22,
   "id": "a1ffcc72",
   "metadata": {},
   "outputs": [
    {
     "data": {
      "text/html": [
       "<div>\n",
       "<style scoped>\n",
       "    .dataframe tbody tr th:only-of-type {\n",
       "        vertical-align: middle;\n",
       "    }\n",
       "\n",
       "    .dataframe tbody tr th {\n",
       "        vertical-align: top;\n",
       "    }\n",
       "\n",
       "    .dataframe thead th {\n",
       "        text-align: right;\n",
       "    }\n",
       "</style>\n",
       "<table border=\"1\" class=\"dataframe\">\n",
       "  <thead>\n",
       "    <tr style=\"text-align: right;\">\n",
       "      <th></th>\n",
       "      <th>Unnamed: 0</th>\n",
       "      <th>Filtered</th>\n",
       "    </tr>\n",
       "  </thead>\n",
       "  <tbody>\n",
       "    <tr>\n",
       "      <th>0</th>\n",
       "      <td>0</td>\n",
       "      <td>Through of organizing, negotiating, picketing, and protesting, labor unions secured vital workplace protections that union and non - union workers...</td>\n",
       "    </tr>\n",
       "    <tr>\n",
       "      <th>1</th>\n",
       "      <td>1</td>\n",
       "      <td>Not only do Republicans oppose making big corporations pay their fair share— they want middle class families and small business owners to pay more...</td>\n",
       "    </tr>\n",
       "    <tr>\n",
       "      <th>2</th>\n",
       "      <td>2</td>\n",
       "      <td>A stronger economy built from the bottom up and the middle out puts greater power in workers ' hands to improve their lives, provide for their fam...</td>\n",
       "    </tr>\n",
       "    <tr>\n",
       "      <th>3</th>\n",
       "      <td>3</td>\n",
       "      <td>Democrats are working tirelessly to open doors for more outstanding entrepreneurs. \\n\\n But the Republican plan led by Senator would tax half of o...</td>\n",
       "    </tr>\n",
       "    <tr>\n",
       "      <th>4</th>\n",
       "      <td>4</td>\n",
       "      <td>American workers are beginning to rebuild our nation 's roads, bridges, ports, and waterways. \\n\\n The Bipartisan Infrastructure Law will create n...</td>\n",
       "    </tr>\n",
       "  </tbody>\n",
       "</table>\n",
       "</div>"
      ],
      "text/plain": [
       "   Unnamed: 0  \\\n",
       "0           0   \n",
       "1           1   \n",
       "2           2   \n",
       "3           3   \n",
       "4           4   \n",
       "\n",
       "                                                                                                                                                Filtered  \n",
       "0  Through of organizing, negotiating, picketing, and protesting, labor unions secured vital workplace protections that union and non - union workers...  \n",
       "1  Not only do Republicans oppose making big corporations pay their fair share— they want middle class families and small business owners to pay more...  \n",
       "2  A stronger economy built from the bottom up and the middle out puts greater power in workers ' hands to improve their lives, provide for their fam...  \n",
       "3  Democrats are working tirelessly to open doors for more outstanding entrepreneurs. \\n\\n But the Republican plan led by Senator would tax half of o...  \n",
       "4  American workers are beginning to rebuild our nation 's roads, bridges, ports, and waterways. \\n\\n The Bipartisan Infrastructure Law will create n...  "
      ]
     },
     "execution_count": 22,
     "metadata": {},
     "output_type": "execute_result"
    }
   ],
   "source": [
    "pd.set_option('max_colwidth', 150)\n",
    "df = pd.read_csv('JoeBiden_Filtered_TW.csv', engine='python')\n",
    "df.head()"
   ]
  },
  {
   "cell_type": "code",
   "execution_count": 26,
   "id": "b6f48bf8",
   "metadata": {},
   "outputs": [
    {
     "data": {
      "text/html": [
       "<div>\n",
       "<style scoped>\n",
       "    .dataframe tbody tr th:only-of-type {\n",
       "        vertical-align: middle;\n",
       "    }\n",
       "\n",
       "    .dataframe tbody tr th {\n",
       "        vertical-align: top;\n",
       "    }\n",
       "\n",
       "    .dataframe thead th {\n",
       "        text-align: right;\n",
       "    }\n",
       "</style>\n",
       "<table border=\"1\" class=\"dataframe\">\n",
       "  <thead>\n",
       "    <tr style=\"text-align: right;\">\n",
       "      <th></th>\n",
       "      <th>Filtered</th>\n",
       "    </tr>\n",
       "  </thead>\n",
       "  <tbody>\n",
       "    <tr>\n",
       "      <th>0</th>\n",
       "      <td>Through of organizing, negotiating, picketing, and protesting, labor unions secured vital workplace protections that union and non - union workers...</td>\n",
       "    </tr>\n",
       "    <tr>\n",
       "      <th>1</th>\n",
       "      <td>Not only do Republicans oppose making big corporations pay their fair share— they want middle class families and small business owners to pay more...</td>\n",
       "    </tr>\n",
       "    <tr>\n",
       "      <th>2</th>\n",
       "      <td>A stronger economy built from the bottom up and the middle out puts greater power in workers ' hands to improve their lives, provide for their fam...</td>\n",
       "    </tr>\n",
       "    <tr>\n",
       "      <th>3</th>\n",
       "      <td>Democrats are working tirelessly to open doors for more outstanding entrepreneurs. \\n\\n But the Republican plan led by Senator would tax half of o...</td>\n",
       "    </tr>\n",
       "    <tr>\n",
       "      <th>4</th>\n",
       "      <td>American workers are beginning to rebuild our nation 's roads, bridges, ports, and waterways. \\n\\n The Bipartisan Infrastructure Law will create n...</td>\n",
       "    </tr>\n",
       "  </tbody>\n",
       "</table>\n",
       "</div>"
      ],
      "text/plain": [
       "                                                                                                                                                Filtered\n",
       "0  Through of organizing, negotiating, picketing, and protesting, labor unions secured vital workplace protections that union and non - union workers...\n",
       "1  Not only do Republicans oppose making big corporations pay their fair share— they want middle class families and small business owners to pay more...\n",
       "2  A stronger economy built from the bottom up and the middle out puts greater power in workers ' hands to improve their lives, provide for their fam...\n",
       "3  Democrats are working tirelessly to open doors for more outstanding entrepreneurs. \\n\\n But the Republican plan led by Senator would tax half of o...\n",
       "4  American workers are beginning to rebuild our nation 's roads, bridges, ports, and waterways. \\n\\n The Bipartisan Infrastructure Law will create n..."
      ]
     },
     "execution_count": 26,
     "metadata": {},
     "output_type": "execute_result"
    }
   ],
   "source": [
    "df = df.reset_index()\n",
    "df = df[['Filtered']]\n",
    "df.head()"
   ]
  },
  {
   "cell_type": "markdown",
   "id": "24e826dc",
   "metadata": {},
   "source": [
    "# Limpieza de datos"
   ]
  },
  {
   "cell_type": "code",
   "execution_count": 27,
   "id": "7feb9a62",
   "metadata": {},
   "outputs": [
    {
     "data": {
      "text/html": [
       "<div>\n",
       "<style scoped>\n",
       "    .dataframe tbody tr th:only-of-type {\n",
       "        vertical-align: middle;\n",
       "    }\n",
       "\n",
       "    .dataframe tbody tr th {\n",
       "        vertical-align: top;\n",
       "    }\n",
       "\n",
       "    .dataframe thead th {\n",
       "        text-align: right;\n",
       "    }\n",
       "</style>\n",
       "<table border=\"1\" class=\"dataframe\">\n",
       "  <thead>\n",
       "    <tr style=\"text-align: right;\">\n",
       "      <th></th>\n",
       "      <th>Filtered</th>\n",
       "    </tr>\n",
       "  </thead>\n",
       "  <tbody>\n",
       "    <tr>\n",
       "      <th>0</th>\n",
       "      <td>through of organizing  negotiating  picketing  and protesting  labor unions secured vital workplace protections that union and non   union workers...</td>\n",
       "    </tr>\n",
       "    <tr>\n",
       "      <th>1</th>\n",
       "      <td>not only do republicans oppose making big corporations pay their fair share— they want middle class families and small business owners to pay more...</td>\n",
       "    </tr>\n",
       "    <tr>\n",
       "      <th>2</th>\n",
       "      <td>a stronger economy built from the bottom up and the middle out puts greater power in workers   hands to improve their lives  provide for their fam...</td>\n",
       "    </tr>\n",
       "    <tr>\n",
       "      <th>3</th>\n",
       "      <td>democrats are working tirelessly to open doors for more outstanding entrepreneurs  \\n\\n but the republican plan led by senator would tax half of o...</td>\n",
       "    </tr>\n",
       "    <tr>\n",
       "      <th>4</th>\n",
       "      <td>american workers are beginning to rebuild our nation  s roads  bridges  ports  and waterways  \\n\\n the bipartisan infrastructure law will create n...</td>\n",
       "    </tr>\n",
       "  </tbody>\n",
       "</table>\n",
       "</div>"
      ],
      "text/plain": [
       "                                                                                                                                                Filtered\n",
       "0  through of organizing  negotiating  picketing  and protesting  labor unions secured vital workplace protections that union and non   union workers...\n",
       "1  not only do republicans oppose making big corporations pay their fair share— they want middle class families and small business owners to pay more...\n",
       "2  a stronger economy built from the bottom up and the middle out puts greater power in workers   hands to improve their lives  provide for their fam...\n",
       "3  democrats are working tirelessly to open doors for more outstanding entrepreneurs  \\n\\n but the republican plan led by senator would tax half of o...\n",
       "4  american workers are beginning to rebuild our nation  s roads  bridges  ports  and waterways  \\n\\n the bipartisan infrastructure law will create n..."
      ]
     },
     "execution_count": 27,
     "metadata": {},
     "output_type": "execute_result"
    }
   ],
   "source": [
    "def clean_text_round1(text):\n",
    "    text = text.lower()\n",
    "    text = re.sub('\\[.*?\\]', ' ', text)\n",
    "    text = re.sub('[%s]' % re.escape(string.punctuation), ' ', text)\n",
    "    text = re.sub('\\w*\\d\\w*', ' ', text)\n",
    "    text = re.sub('�', ' ', text)\n",
    "    return text\n",
    "round1 = lambda x: clean_text_round1(x)\n",
    "df[\"Filtered\"] = df[\"Filtered\"].apply(round1)\n",
    "df.head()"
   ]
  },
  {
   "cell_type": "markdown",
   "id": "1993c9f9",
   "metadata": {},
   "source": [
    "# Función de extracción de sustantivos y lematización"
   ]
  },
  {
   "cell_type": "code",
   "execution_count": 35,
   "id": "fbd0c563",
   "metadata": {},
   "outputs": [
    {
     "data": {
      "text/html": [
       "<div>\n",
       "<style scoped>\n",
       "    .dataframe tbody tr th:only-of-type {\n",
       "        vertical-align: middle;\n",
       "    }\n",
       "\n",
       "    .dataframe tbody tr th {\n",
       "        vertical-align: top;\n",
       "    }\n",
       "\n",
       "    .dataframe thead th {\n",
       "        text-align: right;\n",
       "    }\n",
       "</style>\n",
       "<table border=\"1\" class=\"dataframe\">\n",
       "  <thead>\n",
       "    <tr style=\"text-align: right;\">\n",
       "      <th></th>\n",
       "      <th>Filtered</th>\n",
       "    </tr>\n",
       "  </thead>\n",
       "  <tbody>\n",
       "    <tr>\n",
       "      <th>0</th>\n",
       "      <td>picketing labor union workplace protection union union worker union workplace protection</td>\n",
       "    </tr>\n",
       "    <tr>\n",
       "      <th>1</th>\n",
       "      <td>republican corporation share— class family business owner tax</td>\n",
       "    </tr>\n",
       "    <tr>\n",
       "      <th>2</th>\n",
       "      <td>economy bottom middle power worker hand life family quality job</td>\n",
       "    </tr>\n",
       "    <tr>\n",
       "      <th>3</th>\n",
       "      <td>democrat door entrepreneur plan senator tax half business owner year average</td>\n",
       "    </tr>\n",
       "    <tr>\n",
       "      <th>4</th>\n",
       "      <td>worker nation s road bridge port infrastructure law job community country infrastructure job people background</td>\n",
       "    </tr>\n",
       "  </tbody>\n",
       "</table>\n",
       "</div>"
      ],
      "text/plain": [
       "                                                                                                         Filtered\n",
       "0                        picketing labor union workplace protection union union worker union workplace protection\n",
       "1                                                   republican corporation share— class family business owner tax\n",
       "2                                                 economy bottom middle power worker hand life family quality job\n",
       "3                                    democrat door entrepreneur plan senator tax half business owner year average\n",
       "4  worker nation s road bridge port infrastructure law job community country infrastructure job people background"
      ]
     },
     "execution_count": 35,
     "metadata": {},
     "output_type": "execute_result"
    }
   ],
   "source": [
    "def nouns(text):\n",
    "    is_noun = lambda pos: pos[:2] == 'NN'\n",
    "    tokenized = word_tokenize(text)\n",
    "    wordnet_lemmatizer = WordNetLemmatizer()\n",
    "    all_nouns = [wordnet_lemmatizer.lemmatize(word) \\\n",
    "    for (word, pos) in pos_tag(tokenized) if is_noun(pos)] \n",
    "    return ' '.join(all_nouns)\n",
    "\n",
    "data_nouns = pd.DataFrame(df.Filtered.apply(nouns))\n",
    "data_nouns.head()"
   ]
  },
  {
   "cell_type": "code",
   "execution_count": 39,
   "id": "c674e8a5",
   "metadata": {},
   "outputs": [
    {
     "data": {
      "text/html": [
       "<div>\n",
       "<style scoped>\n",
       "    .dataframe tbody tr th:only-of-type {\n",
       "        vertical-align: middle;\n",
       "    }\n",
       "\n",
       "    .dataframe tbody tr th {\n",
       "        vertical-align: top;\n",
       "    }\n",
       "\n",
       "    .dataframe thead th {\n",
       "        text-align: right;\n",
       "    }\n",
       "</style>\n",
       "<table border=\"1\" class=\"dataframe\">\n",
       "  <thead>\n",
       "    <tr style=\"text-align: right;\">\n",
       "      <th></th>\n",
       "      <th>access</th>\n",
       "      <th>act</th>\n",
       "      <th>action</th>\n",
       "      <th>administration</th>\n",
       "      <th>advancement</th>\n",
       "      <th>agenda</th>\n",
       "      <th>airport</th>\n",
       "      <th>ally</th>\n",
       "      <th>american</th>\n",
       "      <th>arm</th>\n",
       "      <th>...</th>\n",
       "      <th>voting</th>\n",
       "      <th>wage</th>\n",
       "      <th>water</th>\n",
       "      <th>way</th>\n",
       "      <th>weather</th>\n",
       "      <th>woman</th>\n",
       "      <th>work</th>\n",
       "      <th>worker</th>\n",
       "      <th>world</th>\n",
       "      <th>year</th>\n",
       "    </tr>\n",
       "  </thead>\n",
       "  <tbody>\n",
       "    <tr>\n",
       "      <th>0</th>\n",
       "      <td>0.0</td>\n",
       "      <td>0.0</td>\n",
       "      <td>0.0</td>\n",
       "      <td>0.0</td>\n",
       "      <td>0.0</td>\n",
       "      <td>0.0</td>\n",
       "      <td>0.0</td>\n",
       "      <td>0.0</td>\n",
       "      <td>0.0</td>\n",
       "      <td>0.0</td>\n",
       "      <td>...</td>\n",
       "      <td>0.0</td>\n",
       "      <td>0.0</td>\n",
       "      <td>0.0</td>\n",
       "      <td>0.0</td>\n",
       "      <td>0.0</td>\n",
       "      <td>0.0</td>\n",
       "      <td>0.0</td>\n",
       "      <td>0.221521</td>\n",
       "      <td>0.0</td>\n",
       "      <td>0.000000</td>\n",
       "    </tr>\n",
       "    <tr>\n",
       "      <th>1</th>\n",
       "      <td>0.0</td>\n",
       "      <td>0.0</td>\n",
       "      <td>0.0</td>\n",
       "      <td>0.0</td>\n",
       "      <td>0.0</td>\n",
       "      <td>0.0</td>\n",
       "      <td>0.0</td>\n",
       "      <td>0.0</td>\n",
       "      <td>0.0</td>\n",
       "      <td>0.0</td>\n",
       "      <td>...</td>\n",
       "      <td>0.0</td>\n",
       "      <td>0.0</td>\n",
       "      <td>0.0</td>\n",
       "      <td>0.0</td>\n",
       "      <td>0.0</td>\n",
       "      <td>0.0</td>\n",
       "      <td>0.0</td>\n",
       "      <td>0.000000</td>\n",
       "      <td>0.0</td>\n",
       "      <td>0.000000</td>\n",
       "    </tr>\n",
       "    <tr>\n",
       "      <th>2</th>\n",
       "      <td>0.0</td>\n",
       "      <td>0.0</td>\n",
       "      <td>0.0</td>\n",
       "      <td>0.0</td>\n",
       "      <td>0.0</td>\n",
       "      <td>0.0</td>\n",
       "      <td>0.0</td>\n",
       "      <td>0.0</td>\n",
       "      <td>0.0</td>\n",
       "      <td>0.0</td>\n",
       "      <td>...</td>\n",
       "      <td>0.0</td>\n",
       "      <td>0.0</td>\n",
       "      <td>0.0</td>\n",
       "      <td>0.0</td>\n",
       "      <td>0.0</td>\n",
       "      <td>0.0</td>\n",
       "      <td>0.0</td>\n",
       "      <td>0.458764</td>\n",
       "      <td>0.0</td>\n",
       "      <td>0.000000</td>\n",
       "    </tr>\n",
       "    <tr>\n",
       "      <th>3</th>\n",
       "      <td>0.0</td>\n",
       "      <td>0.0</td>\n",
       "      <td>0.0</td>\n",
       "      <td>0.0</td>\n",
       "      <td>0.0</td>\n",
       "      <td>0.0</td>\n",
       "      <td>0.0</td>\n",
       "      <td>0.0</td>\n",
       "      <td>0.0</td>\n",
       "      <td>0.0</td>\n",
       "      <td>...</td>\n",
       "      <td>0.0</td>\n",
       "      <td>0.0</td>\n",
       "      <td>0.0</td>\n",
       "      <td>0.0</td>\n",
       "      <td>0.0</td>\n",
       "      <td>0.0</td>\n",
       "      <td>0.0</td>\n",
       "      <td>0.000000</td>\n",
       "      <td>0.0</td>\n",
       "      <td>0.336474</td>\n",
       "    </tr>\n",
       "    <tr>\n",
       "      <th>4</th>\n",
       "      <td>0.0</td>\n",
       "      <td>0.0</td>\n",
       "      <td>0.0</td>\n",
       "      <td>0.0</td>\n",
       "      <td>0.0</td>\n",
       "      <td>0.0</td>\n",
       "      <td>0.0</td>\n",
       "      <td>0.0</td>\n",
       "      <td>0.0</td>\n",
       "      <td>0.0</td>\n",
       "      <td>...</td>\n",
       "      <td>0.0</td>\n",
       "      <td>0.0</td>\n",
       "      <td>0.0</td>\n",
       "      <td>0.0</td>\n",
       "      <td>0.0</td>\n",
       "      <td>0.0</td>\n",
       "      <td>0.0</td>\n",
       "      <td>0.308001</td>\n",
       "      <td>0.0</td>\n",
       "      <td>0.000000</td>\n",
       "    </tr>\n",
       "  </tbody>\n",
       "</table>\n",
       "<p>5 rows × 190 columns</p>\n",
       "</div>"
      ],
      "text/plain": [
       "   access  act  action  administration  advancement  agenda  airport  ally  \\\n",
       "0     0.0  0.0     0.0             0.0          0.0     0.0      0.0   0.0   \n",
       "1     0.0  0.0     0.0             0.0          0.0     0.0      0.0   0.0   \n",
       "2     0.0  0.0     0.0             0.0          0.0     0.0      0.0   0.0   \n",
       "3     0.0  0.0     0.0             0.0          0.0     0.0      0.0   0.0   \n",
       "4     0.0  0.0     0.0             0.0          0.0     0.0      0.0   0.0   \n",
       "\n",
       "   american  arm  ...  voting  wage  water  way  weather  woman  work  \\\n",
       "0       0.0  0.0  ...     0.0   0.0    0.0  0.0      0.0    0.0   0.0   \n",
       "1       0.0  0.0  ...     0.0   0.0    0.0  0.0      0.0    0.0   0.0   \n",
       "2       0.0  0.0  ...     0.0   0.0    0.0  0.0      0.0    0.0   0.0   \n",
       "3       0.0  0.0  ...     0.0   0.0    0.0  0.0      0.0    0.0   0.0   \n",
       "4       0.0  0.0  ...     0.0   0.0    0.0  0.0      0.0    0.0   0.0   \n",
       "\n",
       "     worker  world      year  \n",
       "0  0.221521    0.0  0.000000  \n",
       "1  0.000000    0.0  0.000000  \n",
       "2  0.458764    0.0  0.000000  \n",
       "3  0.000000    0.0  0.336474  \n",
       "4  0.308001    0.0  0.000000  \n",
       "\n",
       "[5 rows x 190 columns]"
      ]
     },
     "execution_count": 39,
     "metadata": {},
     "output_type": "execute_result"
    }
   ],
   "source": [
    "stop_noun = [\"america\", 'today', 'thing']\n",
    "stop_words_noun_agg = text.ENGLISH_STOP_WORDS.union(stop_noun)\n",
    "tv_noun = TfidfVectorizer(stop_words=stop_words_noun_agg, ngram_range = (1,1), max_df = .8, min_df = .01)\n",
    "data_tv_noun = tv_noun.fit_transform(data_nouns.Filtered)\n",
    "data_dtm_noun = pd.DataFrame(data_tv_noun.toarray(), columns=tv_noun.get_feature_names())\n",
    "data_dtm_noun.index = df.index\n",
    "data_dtm_noun.head()"
   ]
  },
  {
   "cell_type": "markdown",
   "id": "15719676",
   "metadata": {},
   "source": [
    "# Función para desplegar Topics"
   ]
  },
  {
   "cell_type": "code",
   "execution_count": 44,
   "id": "940804fb",
   "metadata": {},
   "outputs": [],
   "source": [
    "def display_topics(model, feature_names, num_top_words, topic_names=None):\n",
    "    for ix, topic in enumerate(model.components_):\n",
    "        if not topic_names or not topic_names[ix]:\n",
    "            print(\"\\nTopic \", ix)\n",
    "        else:\n",
    "            print(\"\\nTopic: '\",topic_names[ix],\"'\")\n",
    "        print(\", \".join([feature_names[i] \\\n",
    "             for i in topic.argsort()[:-num_top_words - 1:-1]]))"
   ]
  },
  {
   "cell_type": "markdown",
   "id": "1350e4eb",
   "metadata": {},
   "source": [
    "# Aplicación de modelo NFM"
   ]
  },
  {
   "cell_type": "code",
   "execution_count": 57,
   "id": "bc22e47d",
   "metadata": {},
   "outputs": [
    {
     "name": "stderr",
     "output_type": "stream",
     "text": [
      "/Users/isanavarro/opt/anaconda3/lib/python3.7/site-packages/sklearn/decomposition/_nmf.py:315: FutureWarning: The 'init' value, when 'init=None' and n_components is less than n_samples and n_features, will be changed from 'nndsvd' to 'nndsvda' in 1.1 (renaming of 0.26).\n",
      "  \"'nndsvda' in 1.1 (renaming of 0.26).\"), FutureWarning)\n",
      "/Users/isanavarro/opt/anaconda3/lib/python3.7/site-packages/sklearn/decomposition/_nmf.py:315: FutureWarning: The 'init' value, when 'init=None' and n_components is less than n_samples and n_features, will be changed from 'nndsvd' to 'nndsvda' in 1.1 (renaming of 0.26).\n",
      "  \"'nndsvda' in 1.1 (renaming of 0.26).\"), FutureWarning)\n"
     ]
    }
   ],
   "source": [
    "nmf_model1 = NMF(2)\n",
    "doc_topic = nmf_model1.fit_transform(data_dtm_noun)\n",
    "nmf_model2 = NMF(8)\n",
    "doc_topic = nmf_model2.fit_transform(data_dtm_noun)"
   ]
  },
  {
   "cell_type": "markdown",
   "id": "e523d3d7",
   "metadata": {},
   "source": [
    "# Visualización de resultados"
   ]
  },
  {
   "cell_type": "code",
   "execution_count": 61,
   "id": "365c74ae",
   "metadata": {},
   "outputs": [
    {
     "name": "stdout",
     "output_type": "stream",
     "text": [
      "Resultados para 2 temas------------------------------------------------------------------------\n",
      "\n",
      "Topic  0\n",
      "job, infrastructure, law, country, economy\n",
      "\n",
      "Topic  1\n",
      "family, cost, build, act, american\n",
      "\n",
      "Resultados para 8 temas------------------------------------------------------------------------\n",
      "\n",
      "Topic  0\n",
      "infrastructure, law, bridge, country, investment, water, road, internet, access, thanks\n",
      "\n",
      "Topic  1\n",
      "cost, build, act, insulin, family, drug, care, prescription, month, health\n",
      "\n",
      "Topic  2\n",
      "job, economy, history, growth, record, manufacturing, work, country, progress, innovation\n",
      "\n",
      "Topic  3\n",
      "booster, shot, omicron, variant, folk, vaccine, way, covid, protection, child\n",
      "\n",
      "Topic  4\n",
      "people, country, nation, challenge, world, vote, time, state, party, court\n",
      "\n",
      "Topic  5\n",
      "plan, tax, rescue, year, thanks, penny, deficit, administration, cut, growth\n",
      "\n",
      "Topic  6\n",
      "american, family, mask, work, million, unemployment, insurance, test, care, state\n",
      "\n",
      "Topic  7\n",
      "price, gas, family, hike, oil, petroleum, release, reserve, barrel, day\n"
     ]
    }
   ],
   "source": [
    "print('Resultados para 2 temas------------------------------------------------------------------------')\n",
    "display_topics(nmf_model1, tv_noun.get_feature_names(), 5)\n",
    "print('')\n",
    "print('Resultados para 8 temas------------------------------------------------------------------------')\n",
    "display_topics(nmf_model, tv_noun.get_feature_names(), 10)"
   ]
  },
  {
   "cell_type": "code",
   "execution_count": null,
   "id": "c3507357",
   "metadata": {},
   "outputs": [],
   "source": []
  }
 ],
 "metadata": {
  "kernelspec": {
   "display_name": "Python 3",
   "language": "python",
   "name": "python3"
  },
  "language_info": {
   "codemirror_mode": {
    "name": "ipython",
    "version": 3
   },
   "file_extension": ".py",
   "mimetype": "text/x-python",
   "name": "python",
   "nbconvert_exporter": "python",
   "pygments_lexer": "ipython3",
   "version": "3.7.10"
  }
 },
 "nbformat": 4,
 "nbformat_minor": 5
}
